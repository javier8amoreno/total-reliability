{
 "cells": [
  {
   "cell_type": "code",
   "execution_count": 1,
   "id": "472c2862-82fe-4515-84be-4cd9b0622619",
   "metadata": {},
   "outputs": [],
   "source": [
    "# Importamos Pandas para leer la data.\n",
    "import pandas as pd"
   ]
  },
  {
   "cell_type": "code",
   "execution_count": 2,
   "id": "24f57cb0-ffdd-4e0c-8389-b3f4373a9cb4",
   "metadata": {},
   "outputs": [
    {
     "data": {
      "text/html": [
       "<div>\n",
       "<style scoped>\n",
       "    .dataframe tbody tr th:only-of-type {\n",
       "        vertical-align: middle;\n",
       "    }\n",
       "\n",
       "    .dataframe tbody tr th {\n",
       "        vertical-align: top;\n",
       "    }\n",
       "\n",
       "    .dataframe thead th {\n",
       "        text-align: right;\n",
       "    }\n",
       "</style>\n",
       "<table border=\"1\" class=\"dataframe\">\n",
       "  <thead>\n",
       "    <tr style=\"text-align: right;\">\n",
       "      <th></th>\n",
       "      <th>HeartDisease</th>\n",
       "      <th>BMI</th>\n",
       "      <th>Smoking</th>\n",
       "      <th>AlcoholDrinking</th>\n",
       "      <th>Stroke</th>\n",
       "      <th>PhysicalHealth</th>\n",
       "      <th>MentalHealth</th>\n",
       "      <th>DiffWalking</th>\n",
       "      <th>Sex</th>\n",
       "      <th>AgeCategory</th>\n",
       "      <th>Race</th>\n",
       "      <th>Diabetic</th>\n",
       "      <th>PhysicalActivity</th>\n",
       "      <th>GenHealth</th>\n",
       "      <th>SleepTime</th>\n",
       "      <th>Asthma</th>\n",
       "      <th>KidneyDisease</th>\n",
       "      <th>SkinCancer</th>\n",
       "    </tr>\n",
       "  </thead>\n",
       "  <tbody>\n",
       "    <tr>\n",
       "      <th>0</th>\n",
       "      <td>No</td>\n",
       "      <td>16.60</td>\n",
       "      <td>Yes</td>\n",
       "      <td>No</td>\n",
       "      <td>No</td>\n",
       "      <td>3.0</td>\n",
       "      <td>30.0</td>\n",
       "      <td>No</td>\n",
       "      <td>Female</td>\n",
       "      <td>55-59</td>\n",
       "      <td>White</td>\n",
       "      <td>Yes</td>\n",
       "      <td>Yes</td>\n",
       "      <td>Very good</td>\n",
       "      <td>5.0</td>\n",
       "      <td>Yes</td>\n",
       "      <td>No</td>\n",
       "      <td>Yes</td>\n",
       "    </tr>\n",
       "    <tr>\n",
       "      <th>1</th>\n",
       "      <td>No</td>\n",
       "      <td>20.34</td>\n",
       "      <td>No</td>\n",
       "      <td>No</td>\n",
       "      <td>Yes</td>\n",
       "      <td>0.0</td>\n",
       "      <td>0.0</td>\n",
       "      <td>No</td>\n",
       "      <td>Female</td>\n",
       "      <td>80 or older</td>\n",
       "      <td>White</td>\n",
       "      <td>No</td>\n",
       "      <td>Yes</td>\n",
       "      <td>Very good</td>\n",
       "      <td>7.0</td>\n",
       "      <td>No</td>\n",
       "      <td>No</td>\n",
       "      <td>No</td>\n",
       "    </tr>\n",
       "    <tr>\n",
       "      <th>2</th>\n",
       "      <td>No</td>\n",
       "      <td>26.58</td>\n",
       "      <td>Yes</td>\n",
       "      <td>No</td>\n",
       "      <td>No</td>\n",
       "      <td>20.0</td>\n",
       "      <td>30.0</td>\n",
       "      <td>No</td>\n",
       "      <td>Male</td>\n",
       "      <td>65-69</td>\n",
       "      <td>White</td>\n",
       "      <td>Yes</td>\n",
       "      <td>Yes</td>\n",
       "      <td>Fair</td>\n",
       "      <td>8.0</td>\n",
       "      <td>Yes</td>\n",
       "      <td>No</td>\n",
       "      <td>No</td>\n",
       "    </tr>\n",
       "    <tr>\n",
       "      <th>3</th>\n",
       "      <td>No</td>\n",
       "      <td>24.21</td>\n",
       "      <td>No</td>\n",
       "      <td>No</td>\n",
       "      <td>No</td>\n",
       "      <td>0.0</td>\n",
       "      <td>0.0</td>\n",
       "      <td>No</td>\n",
       "      <td>Female</td>\n",
       "      <td>75-79</td>\n",
       "      <td>White</td>\n",
       "      <td>No</td>\n",
       "      <td>No</td>\n",
       "      <td>Good</td>\n",
       "      <td>6.0</td>\n",
       "      <td>No</td>\n",
       "      <td>No</td>\n",
       "      <td>Yes</td>\n",
       "    </tr>\n",
       "    <tr>\n",
       "      <th>4</th>\n",
       "      <td>No</td>\n",
       "      <td>23.71</td>\n",
       "      <td>No</td>\n",
       "      <td>No</td>\n",
       "      <td>No</td>\n",
       "      <td>28.0</td>\n",
       "      <td>0.0</td>\n",
       "      <td>Yes</td>\n",
       "      <td>Female</td>\n",
       "      <td>40-44</td>\n",
       "      <td>White</td>\n",
       "      <td>No</td>\n",
       "      <td>Yes</td>\n",
       "      <td>Very good</td>\n",
       "      <td>8.0</td>\n",
       "      <td>No</td>\n",
       "      <td>No</td>\n",
       "      <td>No</td>\n",
       "    </tr>\n",
       "  </tbody>\n",
       "</table>\n",
       "</div>"
      ],
      "text/plain": [
       "  HeartDisease    BMI Smoking AlcoholDrinking Stroke  PhysicalHealth  \\\n",
       "0           No  16.60     Yes              No     No             3.0   \n",
       "1           No  20.34      No              No    Yes             0.0   \n",
       "2           No  26.58     Yes              No     No            20.0   \n",
       "3           No  24.21      No              No     No             0.0   \n",
       "4           No  23.71      No              No     No            28.0   \n",
       "\n",
       "   MentalHealth DiffWalking     Sex  AgeCategory   Race Diabetic  \\\n",
       "0          30.0          No  Female        55-59  White      Yes   \n",
       "1           0.0          No  Female  80 or older  White       No   \n",
       "2          30.0          No    Male        65-69  White      Yes   \n",
       "3           0.0          No  Female        75-79  White       No   \n",
       "4           0.0         Yes  Female        40-44  White       No   \n",
       "\n",
       "  PhysicalActivity  GenHealth  SleepTime Asthma KidneyDisease SkinCancer  \n",
       "0              Yes  Very good        5.0    Yes            No        Yes  \n",
       "1              Yes  Very good        7.0     No            No         No  \n",
       "2              Yes       Fair        8.0    Yes            No         No  \n",
       "3               No       Good        6.0     No            No        Yes  \n",
       "4              Yes  Very good        8.0     No            No         No  "
      ]
     },
     "execution_count": 2,
     "metadata": {},
     "output_type": "execute_result"
    }
   ],
   "source": [
    "# Importamos la data descargada en el PC\n",
    "data = pd.read_csv(\"heart_2020_cleaned.csv\")\n",
    "data.head()"
   ]
  },
  {
   "cell_type": "code",
   "execution_count": 3,
   "id": "86fb70c0-14e1-47b0-ba6c-7e09b7ad2951",
   "metadata": {},
   "outputs": [
    {
     "data": {
      "text/plain": [
       "27373"
      ]
     },
     "execution_count": 3,
     "metadata": {},
     "output_type": "execute_result"
    }
   ],
   "source": [
    "# Separamos la data de BMI (IMC) de los pacientes que presentan problemas de enfermedades cardiacas\n",
    "hd_pacientes = data[\"BMI\"][data[\"HeartDisease\"] == \"Yes\"]\n",
    "hd_pacientes.count()"
   ]
  },
  {
   "cell_type": "code",
   "execution_count": 4,
   "id": "66f100db-6aaf-4aae-899e-ef547c2b1681",
   "metadata": {},
   "outputs": [
    {
     "data": {
      "text/plain": [
       "count    27373.000000\n",
       "mean        29.401592\n",
       "std          6.577151\n",
       "min         12.210000\n",
       "25%         25.060000\n",
       "50%         28.340000\n",
       "75%         32.690000\n",
       "max         83.330000\n",
       "Name: BMI, dtype: float64"
      ]
     },
     "execution_count": 4,
     "metadata": {},
     "output_type": "execute_result"
    }
   ],
   "source": [
    "# Describimos la data\n",
    "hd_pacientes.describe()"
   ]
  },
  {
   "cell_type": "code",
   "execution_count": 5,
   "id": "bac5c4a7-007d-41ad-b159-8d9b38de75a8",
   "metadata": {},
   "outputs": [
    {
     "data": {
      "text/plain": [
       "29.401592079786653"
      ]
     },
     "execution_count": 5,
     "metadata": {},
     "output_type": "execute_result"
    }
   ],
   "source": [
    "# Calculamos la media\n",
    "hd_pacientes.mean()"
   ]
  },
  {
   "cell_type": "code",
   "execution_count": 6,
   "id": "c8e7d1d0-f96d-4a0c-a121-944d845a2ff5",
   "metadata": {},
   "outputs": [
    {
     "data": {
      "text/plain": [
       "28.34"
      ]
     },
     "execution_count": 6,
     "metadata": {},
     "output_type": "execute_result"
    }
   ],
   "source": [
    "# Calculamos la mediana\n",
    "hd_pacientes.median()"
   ]
  },
  {
   "cell_type": "code",
   "execution_count": 7,
   "id": "022e7910-300e-4616-89d4-06ce23acaea4",
   "metadata": {},
   "outputs": [
    {
     "data": {
      "text/plain": [
       "0    26.63\n",
       "Name: BMI, dtype: float64"
      ]
     },
     "execution_count": 7,
     "metadata": {},
     "output_type": "execute_result"
    }
   ],
   "source": [
    "# Calculamos la moda\n",
    "hd_pacientes.mode()"
   ]
  },
  {
   "cell_type": "code",
   "execution_count": 8,
   "id": "d5a6db96-1e0f-448a-b1d9-bf2647cd5243",
   "metadata": {},
   "outputs": [],
   "source": [
    "# Importamos las librerías para realizar los gráficos básicos. \n",
    "import matplotlib\n",
    "import matplotlib.pyplot as plt"
   ]
  },
  {
   "cell_type": "code",
   "execution_count": 9,
   "id": "668e2de8-dc47-4de8-9e65-c1a8b93ba882",
   "metadata": {
    "tags": []
   },
   "outputs": [
    {
     "data": {
      "text/plain": [
       "<matplotlib.lines.Line2D at 0x2661bbabeb0>"
      ]
     },
     "execution_count": 9,
     "metadata": {},
     "output_type": "execute_result"
    },
    {
     "data": {
      "image/png": "[encoded data removed]",
      "text/plain": [
       "<Figure size 720x360 with 1 Axes>"
      ]
     },
     "metadata": {
      "needs_background": "light"
     },
     "output_type": "display_data"
    }
   ],
   "source": [
    "# Algunas configuraciones para la gráfica\n",
    "plt.figure(figsize= (10,5))\n",
    "plt.hist(hd_pacientes, bins=10, rwidth=0.9)\n",
    "plt.title(\"Histograma BMI\")\n",
    "plt.xlabel('BMI')\n",
    "plt.ylabel('Frecuencia')\n",
    "plt.grid(alpha=0.75)\n",
    "plt.axvline(hd_pacientes.mean(), color='r', linestyle='dashed', linewidth=1) # La media\n",
    "plt.axvline(hd_pacientes.median(), color='k', linestyle='dashed', linewidth=1)# La mediana\n",
    "plt.axvline(26.63, color='g', linestyle='dashed', linewidth=1) # La moda"
   ]
  },
  {
   "cell_type": "code",
   "execution_count": 10,
   "id": "a051fecb-715d-478d-9b6e-d80aa7850c0f",
   "metadata": {},
   "outputs": [
    {
     "data": {
      "text/plain": [
       "43.25891251706718"
      ]
     },
     "execution_count": 10,
     "metadata": {},
     "output_type": "execute_result"
    }
   ],
   "source": [
    "# Calculamos la varianza de la muestra\n",
    "hd_pacientes.var() # Varianza de la muestra, divide entre N-1 por defecto"
   ]
  },
  {
   "cell_type": "code",
   "execution_count": 11,
   "id": "14be473c-e038-4552-8592-f0388cd7a3d6",
   "metadata": {},
   "outputs": [
    {
     "data": {
      "text/plain": [
       "43.257332167360644"
      ]
     },
     "execution_count": 11,
     "metadata": {},
     "output_type": "execute_result"
    }
   ],
   "source": [
    "# Calculamos la varianza de la población\n",
    "hd_pacientes.var(ddof=0) # Varianza de la poblacion, divide entre N-0"
   ]
  },
  {
   "cell_type": "code",
   "execution_count": 12,
   "id": "dc03008e-1479-49b8-b762-68b44d8a3338",
   "metadata": {},
   "outputs": [
    {
     "data": {
      "text/plain": [
       "6.5770306497203315"
      ]
     },
     "execution_count": 12,
     "metadata": {},
     "output_type": "execute_result"
    }
   ],
   "source": [
    "# Calculamos la desviación estándar\n",
    "hd_pacientes.std(ddof=0) # Para obtener los mismos resultados que en numpy.std()"
   ]
  },
  {
   "cell_type": "code",
   "execution_count": 13,
   "id": "5f2e6e83-9198-46c2-8f50-a5253bbe7576",
   "metadata": {},
   "outputs": [
    {
     "data": {
      "text/plain": [
       "0.22369641180900487"
      ]
     },
     "execution_count": 13,
     "metadata": {},
     "output_type": "execute_result"
    }
   ],
   "source": [
    "# Calculamos el coeficiente de variación \n",
    "hd_pacientes.std(ddof=0)/ hd_pacientes.mean()"
   ]
  },
  {
   "cell_type": "code",
   "execution_count": 14,
   "id": "431250fb-0410-4863-8a1a-dfcd8b164730",
   "metadata": {},
   "outputs": [
    {
     "data": {
      "text/plain": [
       "1.2262728589310081"
      ]
     },
     "execution_count": 14,
     "metadata": {},
     "output_type": "execute_result"
    }
   ],
   "source": [
    "# Calculamos la asimetría estadística\n",
    "hd_pacientes.skew()"
   ]
  },
  {
   "cell_type": "code",
   "execution_count": 15,
   "id": "2000c965-8ad7-4c5f-95c5-8ffcc0f9f320",
   "metadata": {},
   "outputs": [],
   "source": [
    "#Importamos librerías adicionales para la elaboración del histograma avanzado. \n",
    "import numpy as np\n",
    "import math as mth"
   ]
  },
  {
   "cell_type": "code",
   "execution_count": 16,
   "id": "856ca103-b092-43ee-9c70-ccdea16a3b67",
   "metadata": {},
   "outputs": [],
   "source": [
    "def histo_frec(data, nombre):\n",
    "    #Definimos variables globales, esta variable sera el dataframe que contendra la tabla de resultados del histrograma\n",
    "    global matrix_frame_frec\n",
    "    # Definimos la cantidad de elementos\n",
    "    cant_elemt = data.count()\n",
    "    # Definimos el numero de clases de manera estática\n",
    "    k = 10\n",
    "\n",
    "    # Definimos parametros basicos del histograma, tanto por puntos como por densidad de poblacion\n",
    "    n, bins = np.histogram(data, bins=k)\n",
    "    m, bins2 = np.histogram(data, bins=k, density=True)\n",
    "    \n",
    "    # Creamos variable para almacenar las clases\n",
    "    clases=[]\n",
    "    # Creamos variable para almacenar la tabla de resultados\n",
    "    matrix =[]\n",
    "    #Calculamos la probabilida de ocurrencia de los eventos\n",
    "    prob =n/cant_elemt\n",
    "    # Construimos el array de clases\n",
    "    for i in range(0,k):\n",
    "        par_val=(round(bins[i],4),round(bins[i+1],4))\n",
    "        clases.append(par_val)\n",
    "    # Construmios la tabla de datos almacenandola en la matrix\n",
    "    for i in range(0,k):\n",
    "        diccionario ={\"Clases\":clases[i],\"# Puntos\":n[i],\"Probabilidad\":round(prob[i],4), \"Densidad\":m[i]}\n",
    "        matrix.append(diccionario)\n",
    "    matrix_frame_frec = pd.DataFrame(matrix)\n",
    "    \n",
    "    #Construimos el histograma\n",
    "    plt.hist(data, bins=k , density = True, rwidth=0.9)\n",
    "    plt.title(nombre)\n",
    "    plt.xlabel('Clases')\n",
    "    plt.ylabel('Frecuencia')\n",
    "    plt.grid(alpha=0.75)\n",
    "    \n",
    "    \n",
    "    return plt.show(), matrix_frame_frec"
   ]
  },
  {
   "cell_type": "code",
   "execution_count": 17,
   "id": "8c5a836d-47f2-4297-a140-fd5870bd5d37",
   "metadata": {},
   "outputs": [
    {
     "data": {
      "image/png": "[encoded data removed]",
      "text/plain": [
       "<Figure size 432x288 with 1 Axes>"
      ]
     },
     "metadata": {
      "needs_background": "light"
     },
     "output_type": "display_data"
    },
    {
     "data": {
      "text/plain": [
       "(None,\n",
       "              Clases  # Puntos  Probabilidad  Densidad\n",
       " 0   (12.21, 19.322)       655        0.0239  0.003365\n",
       " 1  (19.322, 26.434)      8844        0.3231  0.045429\n",
       " 2  (26.434, 33.546)     12017        0.4390  0.061728\n",
       " 3  (33.546, 40.658)      4231        0.1546  0.021733\n",
       " 4   (40.658, 47.77)      1187        0.0434  0.006097\n",
       " 5   (47.77, 54.882)       319        0.0117  0.001639\n",
       " 6  (54.882, 61.994)        76        0.0028  0.000390\n",
       " 7  (61.994, 69.106)        30        0.0011  0.000154\n",
       " 8  (69.106, 76.218)         8        0.0003  0.000041\n",
       " 9   (76.218, 83.33)         6        0.0002  0.000031)"
      ]
     },
     "execution_count": 17,
     "metadata": {},
     "output_type": "execute_result"
    }
   ],
   "source": [
    "# Construimos el histograma de frecuencia del IMC para los pacientes que presentan enfermedades cardiacas (EC)\n",
    "histo_frec(hd_pacientes,\"Histograma del IMC pacientes con EC\")"
   ]
  },
  {
   "cell_type": "code",
   "execution_count": 18,
   "id": "cdb60aba-7430-468b-847f-fbe68e12a202",
   "metadata": {},
   "outputs": [
    {
     "data": {
      "text/plain": [
       "292422"
      ]
     },
     "execution_count": 18,
     "metadata": {},
     "output_type": "execute_result"
    }
   ],
   "source": [
    "# Separamos la data de BMI (IMC) de los pacientes que NO presentan problemas de enfermedades cardiacas\n",
    "nhd_pacientes = data[\"BMI\"][data[\"HeartDisease\"] == \"No\"]\n",
    "nhd_pacientes.count()"
   ]
  },
  {
   "cell_type": "code",
   "execution_count": 19,
   "id": "684f0fe4-a942-4835-8976-249735544b70",
   "metadata": {},
   "outputs": [
    {
     "data": {
      "image/png": "[encoded data removed]",
      "text/plain": [
       "<Figure size 432x288 with 1 Axes>"
      ]
     },
     "metadata": {
      "needs_background": "light"
     },
     "output_type": "display_data"
    },
    {
     "data": {
      "text/plain": [
       "(None,\n",
       "              Clases  # Puntos  Probabilidad  Densidad\n",
       " 0   (12.02, 20.303)     16147        0.0552  0.006666\n",
       " 1  (20.303, 28.586)    159186        0.5444  0.065721\n",
       " 2  (28.586, 36.869)     90772        0.3104  0.037476\n",
       " 3  (36.869, 45.152)     20785        0.0711  0.008581\n",
       " 4  (45.152, 53.435)      4348        0.0149  0.001795\n",
       " 5  (53.435, 61.718)       840        0.0029  0.000347\n",
       " 6  (61.718, 70.001)       228        0.0008  0.000094\n",
       " 7  (70.001, 78.284)        78        0.0003  0.000032\n",
       " 8  (78.284, 86.567)        25        0.0001  0.000010\n",
       " 9   (86.567, 94.85)        13        0.0000  0.000005)"
      ]
     },
     "execution_count": 19,
     "metadata": {},
     "output_type": "execute_result"
    }
   ],
   "source": [
    "#  Construimos el histograma de frecuencia del IMC para los pacientes que presentan enfermedades cardiacas (EC)\n",
    "histo_frec(nhd_pacientes,\"Histograma del IMC pacientes sin EC\")"
   ]
  },
  {
   "cell_type": "markdown",
   "id": "4008472b-fad3-4e51-a3aa-3f58a19ac1be",
   "metadata": {},
   "source": [
    "_Realizó:_\n",
    "\n",
    "_Javier A. Ochoa M.  \n",
    "Ing. Mecánico especialista en gestión de mantenimiento <br />\n",
    "técnicas de mantenimiento predictivo y confiabilidad integral. <br />\n",
    "+57-3213192915  \n",
    "javier8am@yahoo.com\n",
    "Bogotá – Colombia_  "
   ]
  }
 ],
 "metadata": {
  "kernelspec": {
   "display_name": "Python 3 (ipykernel)",
   "language": "python",
   "name": "python3"
  },
  "language_info": {
   "codemirror_mode": {
    "name": "ipython",
    "version": 3
   },
   "file_extension": ".py",
   "mimetype": "text/x-python",
   "name": "python",
   "nbconvert_exporter": "python",
   "pygments_lexer": "ipython3",
   "version": "3.9.11"
  }
 },
 "nbformat": 4,
 "nbformat_minor": 5
}
