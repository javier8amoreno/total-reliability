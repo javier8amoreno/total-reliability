{
 "cells": [
  {
   "cell_type": "markdown",
   "id": "68c1ed41",
   "metadata": {},
   "source": [
    "## Aplicación de la estadística descriptica en la ingeniería de confiabilidad."
   ]
  },
  {
   "cell_type": "markdown",
   "id": "c6d90e83",
   "metadata": {},
   "source": [
    "Para facilitar el aprendizaje de la teoría aquí planteada realizaremos un ejercicio con datos reales de parámetros que caracterizan los yacimientos de crudo. Esta data se utilizará a lo largo de las diferentes etapas de desarrollo de los ejercicios prácticos.\n",
    "\n",
    "**1. Histograma de frecuencia acumulado**\n",
    "\n",
    "\n",
    "En ocasiones estamos interesados en contestar preguntas como:\n",
    "\n",
    "¿Cuál es la probabilidad de que X tome un valor menor o igual a determinado valor?\n",
    "\n",
    "Para contestar esta pregunta es conveniente organizar gráficamente la información en la forma de un Histograma Acumulado Directo. De igual manera para facilitar el análisis de la información crearemos una función que grafique el histograma acumulado y nos entregue la información en forma de tabla para su posterior análisis. "
   ]
  },
  {
   "cell_type": "code",
   "execution_count": 1,
   "id": "147eada4",
   "metadata": {},
   "outputs": [],
   "source": [
    "# Importamos las librerías necesarias para el trabajo con los datos\n",
    "import pandas as pd\n",
    "import numpy as np\n",
    "import matplotlib\n",
    "import matplotlib.pyplot as plt\n",
    "import math as mth"
   ]
  },
  {
   "cell_type": "code",
   "execution_count": 2,
   "id": "bcea2f67",
   "metadata": {},
   "outputs": [
    {
     "data": {
      "text/html": [
       "<div>\n",
       "<style scoped>\n",
       "    .dataframe tbody tr th:only-of-type {\n",
       "        vertical-align: middle;\n",
       "    }\n",
       "\n",
       "    .dataframe tbody tr th {\n",
       "        vertical-align: top;\n",
       "    }\n",
       "\n",
       "    .dataframe thead th {\n",
       "        text-align: right;\n",
       "    }\n",
       "</style>\n",
       "<table border=\"1\" class=\"dataframe\">\n",
       "  <thead>\n",
       "    <tr style=\"text-align: right;\">\n",
       "      <th></th>\n",
       "      <th>POROSIDAD</th>\n",
       "      <th>ARENA</th>\n",
       "    </tr>\n",
       "  </thead>\n",
       "  <tbody>\n",
       "    <tr>\n",
       "      <th>0</th>\n",
       "      <td>0.2370</td>\n",
       "      <td>130.293</td>\n",
       "    </tr>\n",
       "    <tr>\n",
       "      <th>1</th>\n",
       "      <td>0.2266</td>\n",
       "      <td>37.000</td>\n",
       "    </tr>\n",
       "    <tr>\n",
       "      <th>2</th>\n",
       "      <td>0.2179</td>\n",
       "      <td>41.037</td>\n",
       "    </tr>\n",
       "    <tr>\n",
       "      <th>3</th>\n",
       "      <td>0.2240</td>\n",
       "      <td>52.500</td>\n",
       "    </tr>\n",
       "    <tr>\n",
       "      <th>4</th>\n",
       "      <td>0.2319</td>\n",
       "      <td>86.092</td>\n",
       "    </tr>\n",
       "    <tr>\n",
       "      <th>5</th>\n",
       "      <td>0.2400</td>\n",
       "      <td>43.223</td>\n",
       "    </tr>\n",
       "    <tr>\n",
       "      <th>6</th>\n",
       "      <td>0.2413</td>\n",
       "      <td>56.500</td>\n",
       "    </tr>\n",
       "    <tr>\n",
       "      <th>7</th>\n",
       "      <td>0.2436</td>\n",
       "      <td>24.035</td>\n",
       "    </tr>\n",
       "    <tr>\n",
       "      <th>8</th>\n",
       "      <td>0.2331</td>\n",
       "      <td>35.963</td>\n",
       "    </tr>\n",
       "    <tr>\n",
       "      <th>9</th>\n",
       "      <td>0.2376</td>\n",
       "      <td>35.864</td>\n",
       "    </tr>\n",
       "  </tbody>\n",
       "</table>\n",
       "</div>"
      ],
      "text/plain": [
       "   POROSIDAD    ARENA\n",
       "0     0.2370  130.293\n",
       "1     0.2266   37.000\n",
       "2     0.2179   41.037\n",
       "3     0.2240   52.500\n",
       "4     0.2319   86.092\n",
       "5     0.2400   43.223\n",
       "6     0.2413   56.500\n",
       "7     0.2436   24.035\n",
       "8     0.2331   35.963\n",
       "9     0.2376   35.864"
      ]
     },
     "execution_count": 2,
     "metadata": {},
     "output_type": "execute_result"
    }
   ],
   "source": [
    "# Importamos los datos del yacimiento\n",
    "\n",
    "DATA = pd.read_csv(\"EJERCICIO 1.csv\")\n",
    "DATA.head(10)"
   ]
  },
  {
   "cell_type": "code",
   "execution_count": 3,
   "id": "de4c1cb4",
   "metadata": {},
   "outputs": [],
   "source": [
    "#Aislamos la data en una variable porosidad y una para arena definimos el total de elementos de la serie\n",
    "porosidad = DATA[\"POROSIDAD\"]\n",
    "arena = DATA[\"ARENA\"]"
   ]
  },
  {
   "cell_type": "markdown",
   "id": "590c2c76",
   "metadata": {},
   "source": [
    "La manera más sencilla de realizarlo es con el uso de la librería pyplot, y condicionando unos parámetros adicionales recibiremos el array de densidad para cada intervalo encontrado automáticamente.\n",
    "De manera natural el histograma que ofrece la librería por defecto no me ofrece mayor información respecto del comportamiento de los datos. Aunque la imagen y la tabla es útil para construir rápidamente un reporte gerencial, para un análisis profundo de ingeniería se requiere de la presentación de los datos de una manera legible. En el siguiente script encontraras una formula rápida de elaborar el histograma acumulado con toda la información posible respecto al comportamiento de los datos.\n"
   ]
  },
  {
   "cell_type": "code",
   "execution_count": 5,
   "id": "56df7bec",
   "metadata": {},
   "outputs": [
    {
     "data": {
      "text/plain": [
       "(array([0.01010101, 0.02020202, 0.06060606, 0.09090909, 0.15151515,\n",
       "        0.25252525, 0.41414141, 0.61616162, 0.84848485, 1.        ]),\n",
       " array([0.1649 , 0.17277, 0.18064, 0.18851, 0.19638, 0.20425, 0.21212,\n",
       "        0.21999, 0.22786, 0.23573, 0.2436 ]),\n",
       " <BarContainer object of 10 artists>)"
      ]
     },
     "execution_count": 5,
     "metadata": {},
     "output_type": "execute_result"
    },
    {
     "data": {
      "image/png": "[encoded data removed]",
      "text/plain": [
       "<Figure size 432x288 with 1 Axes>"
      ]
     },
     "metadata": {
      "needs_background": "light"
     },
     "output_type": "display_data"
    }
   ],
   "source": [
    "plt.hist(porosidad, bins=\"auto\" , density = True, cumulative= True, rwidth=0.9)"
   ]
  },
  {
   "cell_type": "markdown",
   "id": "7591e1c5",
   "metadata": {},
   "source": [
    "**Histograma avanzado de frecuencia acumulado:**\n",
    "\n",
    "Para presentar la misma información, pero de manera más útil para un informe de gestión por ejemplo, podemos utilizar el siguiente script el cual organiza la información de manera tabular y construye la gráfica con las leyendas de manera automática. Esta información nos permite realizar las siguientes afirmaciones respecto a la probabilidad (P) de que un valor sea mayor, menor o igual a un criterio predefinido:\n"
   ]
  },
  {
   "cell_type": "code",
   "execution_count": 6,
   "id": "ac78efa2",
   "metadata": {},
   "outputs": [],
   "source": [
    "# A continuacion se define una funcion para construir el histrograma acumulado, con el objetivo de exporta una tabla de \n",
    "# resultados para su posterior analisis. \n",
    "\n",
    "def histo_cum(data, nombre):\n",
    "    #Definimos variables globales, esta variable sera el dataframe que contendra la tabla de resultados del histrograma\n",
    "    global hmatrix_frame_cum\n",
    "    # Definimos la cantidad de elementos\n",
    "    cant_elemt = data.count()\n",
    "    # Definimos el numero de clases\n",
    "    k = round(mth.sqrt(cant_elemt))\n",
    "    # Definimos parametros basicos del histograma, tanto por puntos como por densidad de poblacion\n",
    "    n, bins = np.histogram(data, bins=k)\n",
    "    a =plt.hist(data, bins=\"auto\" , density = True, cumulative= True, rwidth=0.9)\n",
    "    cum =a[0]\n",
    "    # Creamos variable para almacenar las clases\n",
    "    clases=[]\n",
    "    # Creamos variable para almacenar la tabla de resultados\n",
    "    matrix =[]\n",
    "    # Construimos el array de clases\n",
    "    for i in range(0,k):\n",
    "        par_val=(round(bins[i],4),round(bins[i+1],4))\n",
    "        clases.append(par_val)\n",
    "    for i in range(0,k):\n",
    "        diccionario ={\"Clases\":clases[i],\"# Puntos\":n[i],\"Probabilidad\":cum[i]}\n",
    "        matrix.append(diccionario)\n",
    "    matrix_frame_cum = pd.DataFrame(matrix)\n",
    "   \n",
    "    #Construimos el histograma\n",
    "    plt.title(nombre)\n",
    "    plt.xlabel('Clases')\n",
    "    plt.ylabel('Frecuencia')\n",
    "    plt.grid(alpha=0.75)\n",
    "\n",
    "    return plt.show(), matrix_frame_cum"
   ]
  },
  {
   "cell_type": "code",
   "execution_count": 7,
   "id": "40eed9df",
   "metadata": {},
   "outputs": [
    {
     "data": {
      "image/png": "[encoded data removed]",
      "text/plain": [
       "<Figure size 432x288 with 1 Axes>"
      ]
     },
     "metadata": {
      "needs_background": "light"
     },
     "output_type": "display_data"
    },
    {
     "data": {
      "text/plain": [
       "(None,\n",
       "              Clases  # Puntos  Probabilidad\n",
       " 0  (0.1649, 0.1728)         1      0.010101\n",
       " 1  (0.1728, 0.1806)         1      0.020202\n",
       " 2  (0.1806, 0.1885)         4      0.060606\n",
       " 3  (0.1885, 0.1964)         3      0.090909\n",
       " 4  (0.1964, 0.2042)         6      0.151515\n",
       " 5  (0.2042, 0.2121)        10      0.252525\n",
       " 6    (0.2121, 0.22)        16      0.414141\n",
       " 7    (0.22, 0.2279)        20      0.616162\n",
       " 8  (0.2279, 0.2357)        23      0.848485\n",
       " 9  (0.2357, 0.2436)        15      1.000000)"
      ]
     },
     "execution_count": 7,
     "metadata": {},
     "output_type": "execute_result"
    }
   ],
   "source": [
    "histo_cum(porosidad,\"Histograma Acumulado Porosidad\")"
   ]
  },
  {
   "cell_type": "markdown",
   "id": "856f3c7a",
   "metadata": {},
   "source": [
    "Del Histograma Acumulado Directo construido para la variable aleatoria “Porosidad” podemos inferir entre otras cosas, lo siguiente:\n",
    "\n",
    "1.\tp(P ≤ 0.2436 micras ) = 100% (probabilidad de que porosidad tome valores menores o iguales de 0.2436 micras es de 100%)\n",
    "2.\tp(P ≤ 0.2279 micras ) = 84.84% (probabilidad de que la porosidad tome valores menores o iguales de 0.2279 micras es de 85%)\n",
    "3.\tp(P> 0.2279 micras)= 1-0.8484 =0.1516 =15.16% (probabilidad de que la porosidad tome valores mayores a 0.2279 micras es de 15.16%)\n"
   ]
  },
  {
   "cell_type": "markdown",
   "id": "56902ae5",
   "metadata": {},
   "source": [
    "**4. Literatura utilizada**\n",
    "\n",
    "Para la elaboración del presente documento se utilizaron muchas fuentes bibliográficas pero en especial las siguientes:\n",
    "\n",
    "Libros:\n",
    " * Confiabilidad Integral, un enfoque práctico, R2M S.A\n",
    " \n",
    " Artículos:\n",
    " * Python Statistics Fundamentals: How to Describe Your Data - https://realpython.com/python-statistics/\n",
    " \n",
    " Documentación:\n",
    " * Toda la documentación de las librerías de SciPy - https://www.scipy.org/docs.html\n"
   ]
  },
  {
   "cell_type": "markdown",
   "id": "785dcf16",
   "metadata": {},
   "source": [
    "_Realizó:_\n",
    "\n",
    "_Javier A. Ochoa M.  \n",
    "Ing. Mecánico especialista en gestión de mantenimiento <br />\n",
    "técnicas de mantenimiento predictivo y confiabilidad integral. <br />\n",
    "+57-3213192915  \n",
    "javier8am@yahoo.com\n",
    "Bogotá – Colombia_  "
   ]
  },
  {
   "cell_type": "code",
   "execution_count": null,
   "id": "03f2a466",
   "metadata": {},
   "outputs": [],
   "source": []
  }
 ],
 "metadata": {
  "kernelspec": {
   "display_name": "Python 3 (ipykernel)",
   "language": "python",
   "name": "python3"
  },
  "language_info": {
   "codemirror_mode": {
    "name": "ipython",
    "version": 3
   },
   "file_extension": ".py",
   "mimetype": "text/x-python",
   "name": "python",
   "nbconvert_exporter": "python",
   "pygments_lexer": "ipython3",
   "version": "3.9.11"
  }
 },
 "nbformat": 4,
 "nbformat_minor": 5
}
