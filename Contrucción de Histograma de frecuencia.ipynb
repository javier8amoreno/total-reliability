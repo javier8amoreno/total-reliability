{
 "cells": [
  {
   "cell_type": "markdown",
   "id": "947cc9de",
   "metadata": {},
   "source": [
    "## Aplicación de la estadística descriptica en la ingeniería de confiabilidad."
   ]
  },
  {
   "cell_type": "markdown",
   "id": "4553afc1",
   "metadata": {},
   "source": [
    "Para facilitar el aprendizaje de la teoría aquí planteada realizaremos un ejercicio con datos reales de parámetros que caracterizan los yacimientos de crudo. Esta data se utilizará a lo largo de las diferentes etapas de desarrollo de los ejercicios prácticos.\n",
    "\n",
    "***Contrucción de Histograma de frecuencia***\n",
    "\n",
    "Para mostrar la aplicabilidad de Python en la estadística descriptiva, analizaremos los resultados de porosidad de 99 yacimientos reales con el fin de realizar un análisis completo de la información suministrada."
   ]
  },
  {
   "cell_type": "code",
   "execution_count": 1,
   "id": "c83953de",
   "metadata": {},
   "outputs": [],
   "source": [
    "# Importamos las librerías necesarias para el trabajo con los datos\n",
    "import pandas as pd\n",
    "import numpy as np\n",
    "import matplotlib\n",
    "import matplotlib.pyplot as plt\n",
    "import math as mth"
   ]
  },
  {
   "cell_type": "code",
   "execution_count": 2,
   "id": "8f1222e2",
   "metadata": {},
   "outputs": [
    {
     "data": {
      "text/html": [
       "<div>\n",
       "<style scoped>\n",
       "    .dataframe tbody tr th:only-of-type {\n",
       "        vertical-align: middle;\n",
       "    }\n",
       "\n",
       "    .dataframe tbody tr th {\n",
       "        vertical-align: top;\n",
       "    }\n",
       "\n",
       "    .dataframe thead th {\n",
       "        text-align: right;\n",
       "    }\n",
       "</style>\n",
       "<table border=\"1\" class=\"dataframe\">\n",
       "  <thead>\n",
       "    <tr style=\"text-align: right;\">\n",
       "      <th></th>\n",
       "      <th>POROSIDAD</th>\n",
       "      <th>ARENA</th>\n",
       "    </tr>\n",
       "  </thead>\n",
       "  <tbody>\n",
       "    <tr>\n",
       "      <th>0</th>\n",
       "      <td>0.2370</td>\n",
       "      <td>130.293</td>\n",
       "    </tr>\n",
       "    <tr>\n",
       "      <th>1</th>\n",
       "      <td>0.2266</td>\n",
       "      <td>37.000</td>\n",
       "    </tr>\n",
       "    <tr>\n",
       "      <th>2</th>\n",
       "      <td>0.2179</td>\n",
       "      <td>41.037</td>\n",
       "    </tr>\n",
       "    <tr>\n",
       "      <th>3</th>\n",
       "      <td>0.2240</td>\n",
       "      <td>52.500</td>\n",
       "    </tr>\n",
       "    <tr>\n",
       "      <th>4</th>\n",
       "      <td>0.2319</td>\n",
       "      <td>86.092</td>\n",
       "    </tr>\n",
       "    <tr>\n",
       "      <th>5</th>\n",
       "      <td>0.2400</td>\n",
       "      <td>43.223</td>\n",
       "    </tr>\n",
       "    <tr>\n",
       "      <th>6</th>\n",
       "      <td>0.2413</td>\n",
       "      <td>56.500</td>\n",
       "    </tr>\n",
       "    <tr>\n",
       "      <th>7</th>\n",
       "      <td>0.2436</td>\n",
       "      <td>24.035</td>\n",
       "    </tr>\n",
       "    <tr>\n",
       "      <th>8</th>\n",
       "      <td>0.2331</td>\n",
       "      <td>35.963</td>\n",
       "    </tr>\n",
       "    <tr>\n",
       "      <th>9</th>\n",
       "      <td>0.2376</td>\n",
       "      <td>35.864</td>\n",
       "    </tr>\n",
       "  </tbody>\n",
       "</table>\n",
       "</div>"
      ],
      "text/plain": [
       "   POROSIDAD    ARENA\n",
       "0     0.2370  130.293\n",
       "1     0.2266   37.000\n",
       "2     0.2179   41.037\n",
       "3     0.2240   52.500\n",
       "4     0.2319   86.092\n",
       "5     0.2400   43.223\n",
       "6     0.2413   56.500\n",
       "7     0.2436   24.035\n",
       "8     0.2331   35.963\n",
       "9     0.2376   35.864"
      ]
     },
     "execution_count": 2,
     "metadata": {},
     "output_type": "execute_result"
    }
   ],
   "source": [
    "# Importamos los datos del yacimiento\n",
    "\n",
    "DATA = pd.read_csv(\"EJERCICIO 1.csv\")\n",
    "DATA.head(10)"
   ]
  },
  {
   "cell_type": "code",
   "execution_count": 3,
   "id": "f532995a",
   "metadata": {},
   "outputs": [],
   "source": [
    "#Aislamos la data en una variable porosidad y una para arena definimos el total de elementos de la serie\n",
    "porosidad = DATA[\"POROSIDAD\"]"
   ]
  },
  {
   "cell_type": "markdown",
   "id": "2a8557de",
   "metadata": {},
   "source": [
    "**1. Histograma de frecuencia**\n",
    "\n",
    "El histograma de frecuencias nos permite contestar preguntas como:\n",
    "\n",
    "¿Cuál es la probabilidad de que X tome un determinado valor xi?\n",
    "¿Cuál es el valor o el rango de valores de X con mayor probabilidad de ocurrencia?\n",
    "¿De qué manera se distribuyen los probables valores de X?"
   ]
  },
  {
   "cell_type": "code",
   "execution_count": 4,
   "id": "0f21da77",
   "metadata": {},
   "outputs": [
    {
     "data": {
      "image/png": "[encoded data removed]",
      "text/plain": [
       "<Figure size 432x288 with 1 Axes>"
      ]
     },
     "metadata": {
      "needs_background": "light"
     },
     "output_type": "display_data"
    }
   ],
   "source": [
    "# Llamamos la funcion hist de la biblioteca matplotlib.pyplot que importamos al inicio\n",
    "\n",
    "# bins = auto para dejar que la libreria haga el calculo del numero de clases y podamos comparlo\n",
    "# rwidth = 0.9 para que las barras del grafico queden separadas una de la otra\n",
    "plt.hist(porosidad, bins=\"auto\" , rwidth=0.9)\n",
    "# plot.kde - kernel density equivalent realiza una grafica ajustada al comportamiento de los datos, por el momento no \n",
    "# profundizaremos en este tema\n",
    "porosidad.plot.kde(bw_method='silverman')\n",
    "plt.title(\"Histograma Porosidad\")\n",
    "plt.xlabel('Clases')\n",
    "plt.ylabel('Frecuencia')\n",
    "# el parametro de aplpha = 0.75 se pone para visualizar una rejilla en la grafica\n",
    "plt.grid(alpha=0.75)"
   ]
  },
  {
   "cell_type": "markdown",
   "id": "3ac4de70",
   "metadata": {},
   "source": [
    "**2 . Histograma Avanzado**\n",
    "\n",
    "Como podemos observar el histograma por sí solo no nos proporciona mayor información respecto a la distribución de los datos. La aplicación de esta librería retorna una información que podremos utilizar para el análisis de la información, pero debe ser extraída y manipulada manualmente. Pueden encontrar mayor información sobre la librería en la siguiente dirección: https://matplotlib.org/api/_as_gen/matplotlib.pyplot.hist.html#matplotlib.pyplot.hist\n",
    "\n",
    "Para facilitar el análisis procederemos a crear una función que construya la misma grafica pero que exporte la información en forma de tabla con el fin de realizar el análisis de la distribución de los datos.\n"
   ]
  },
  {
   "cell_type": "code",
   "execution_count": 5,
   "id": "89a12a7f",
   "metadata": {},
   "outputs": [],
   "source": [
    "# A continuacion se define una funcion para construir el histrograma de frecuencia, con el objetivo de exporta una tabla de \n",
    "# resultados para su posterior analisis. \n",
    "\n",
    "def histo_frec(data, nombre):\n",
    "    #Definimos variables globales, esta variable sera el dataframe que contendra la tabla de resultados del histrograma\n",
    "    global matrix_frame_frec\n",
    "    # Definimos la cantidad de elementos\n",
    "    cant_elemt = data.count()\n",
    "    # Definimos el numero de clases\n",
    "    k = round(mth.sqrt(cant_elemt))\n",
    "       \n",
    "    # Definimos parametros basicos del histograma, tanto por puntos como por densidad de poblacion\n",
    "    n, bins = np.histogram(data, bins=k)\n",
    "    m, bins2 = np.histogram(data, bins=k, density=True)\n",
    "    \n",
    "    # Creamos variable para almacenar las clases\n",
    "    clases=[]\n",
    "    # Creamos variable para almacenar la tabla de resultados\n",
    "    matrix =[]\n",
    "    #Calculamos la probabilida de ocurrencia de los eventos\n",
    "    prob =n/cant_elemt\n",
    "    # Construimos el array de clases\n",
    "    for i in range(0,k):\n",
    "        par_val=(round(bins[i],4),round(bins[i+1],4))\n",
    "        clases.append(par_val)\n",
    "    # Construmios la tabla de datos almacenandola en la matrix\n",
    "    for i in range(0,k):\n",
    "        diccionario ={\"Clases\":clases[i],\"# Puntos\":n[i],\"Probabilidad\":round(prob[i],4), \"Densidad\":m[i]}\n",
    "        matrix.append(diccionario)\n",
    "    matrix_frame_frec = pd.DataFrame(matrix)\n",
    "    \n",
    "    #Construimos el histograma\n",
    "    plt.hist(data, bins=k , density = True, rwidth=0.9)\n",
    "    data.plot.kde(bw_method='silverman')\n",
    "    plt.title(nombre)\n",
    "    plt.xlabel('Clases')\n",
    "    plt.ylabel('Frecuencia')\n",
    "    plt.grid(alpha=0.75)\n",
    "    \n",
    "    \n",
    "    return plt.show(), matrix_frame_frec"
   ]
  },
  {
   "cell_type": "code",
   "execution_count": 6,
   "id": "ea94bce5",
   "metadata": {},
   "outputs": [
    {
     "data": {
      "image/png": "[encoded data removed]",
      "text/plain": [
       "<Figure size 432x288 with 1 Axes>"
      ]
     },
     "metadata": {
      "needs_background": "light"
     },
     "output_type": "display_data"
    },
    {
     "data": {
      "text/plain": [
       "(None,\n",
       "              Clases  # Puntos  Probabilidad   Densidad\n",
       " 0  (0.1649, 0.1728)         1        0.0101   1.283483\n",
       " 1  (0.1728, 0.1806)         1        0.0101   1.283483\n",
       " 2  (0.1806, 0.1885)         4        0.0404   5.133931\n",
       " 3  (0.1885, 0.1964)         3        0.0303   3.850449\n",
       " 4  (0.1964, 0.2042)         6        0.0606   7.700897\n",
       " 5  (0.2042, 0.2121)        10        0.1010  12.834829\n",
       " 6    (0.2121, 0.22)        16        0.1616  20.535726\n",
       " 7    (0.22, 0.2279)        20        0.2020  25.669657\n",
       " 8  (0.2279, 0.2357)        23        0.2323  29.520106\n",
       " 9  (0.2357, 0.2436)        15        0.1515  19.252243)"
      ]
     },
     "execution_count": 6,
     "metadata": {},
     "output_type": "execute_result"
    }
   ],
   "source": [
    "# Ejecutamos la funcion histo_frec y le pasamos la data porosidad y el nombre que le pondremos a la grafica.\n",
    "histo_frec(porosidad, \"Histograma de Porosidad\")"
   ]
  },
  {
   "cell_type": "markdown",
   "id": "fdf74302",
   "metadata": {},
   "source": [
    "***3. Analisis del histrograma de frecuencias***\n",
    "\n",
    "Del histograma de frecuencias construido para la variable aleatoria “Porosidad” podemos inferir lo siguiente:\n",
    "\n",
    "1. p(Poro = 0.21 micras ) = 10.10 %  (probabilidad de que la porosidad tome el valor de 0,21 micras )\n",
    "2. p(Poro = 0.22 micras ) = 16.16 % (probabilidad de que la porosidad tome el valor de 0,22 micras\n",
    "3. p(0.2279 ≤ P < 0.2357  micras) = 23.23% (probabilidad de que la porosidad tome valores mayores o iguales a 0.2279 micras y menores de 0.2357 micras )\n",
    "4. El 43% de probabilidad de ocurrencia está ubicado en el rango que va desde 0.22 hasta 0.2357 micras"
   ]
  },
  {
   "cell_type": "markdown",
   "id": "28c10973",
   "metadata": {},
   "source": [
    "**4. Literatura utilizada**\n",
    "\n",
    "Para la elaboración del presente documento se utilizaron muchas fuentes bibliográficas pero en especial las siguientes:\n",
    "\n",
    "Libros:\n",
    " * Confiabilidad Integral, un enfoque práctico, R2M S.A\n",
    " \n",
    " Artículos:\n",
    " * Python Statistics Fundamentals: How to Describe Your Data - https://realpython.com/python-statistics/\n",
    " \n",
    " Documentación:\n",
    " * Toda la documentación de las librerías de SciPy - https://www.scipy.org/docs.html\n"
   ]
  },
  {
   "cell_type": "markdown",
   "id": "cdb63d00",
   "metadata": {},
   "source": [
    "_Realizó:_\n",
    "\n",
    "_Javier A. Ochoa M.  \n",
    "Ing. Mecánico especialista en gestión de mantenimiento <br />\n",
    "técnicas de mantenimiento predictivo y confiabilidad integral. <br />\n",
    "+57-3213192915  \n",
    "javier8am@yahoo.com\n",
    "Bogotá – Colombia_  "
   ]
  }
 ],
 "metadata": {
  "kernelspec": {
   "display_name": "Python 3 (ipykernel)",
   "language": "python",
   "name": "python3"
  },
  "language_info": {
   "codemirror_mode": {
    "name": "ipython",
    "version": 3
   },
   "file_extension": ".py",
   "mimetype": "text/x-python",
   "name": "python",
   "nbconvert_exporter": "python",
   "pygments_lexer": "ipython3",
   "version": "3.9.11"
  }
 },
 "nbformat": 4,
 "nbformat_minor": 5
}
